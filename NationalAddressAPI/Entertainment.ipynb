{
 "cells": [
  {
   "cell_type": "markdown",
   "metadata": {},
   "source": [
    "# Entertainment Data"
   ]
  },
  {
   "cell_type": "code",
   "execution_count": 137,
   "metadata": {},
   "outputs": [],
   "source": [
    "import pandas as pd\n",
    "import json\n",
    "import csv\n",
    "import time\n",
    "import sys\n",
    "import http.client, urllib.request, urllib.parse, urllib.error, base64"
   ]
  },
  {
   "cell_type": "markdown",
   "metadata": {},
   "source": [
    "## Data Request"
   ]
  },
  {
   "cell_type": "code",
   "execution_count": 138,
   "metadata": {},
   "outputs": [],
   "source": [
    "astrings2 = list()\n",
    "\n",
    "\n",
    "try:\n",
    "    conn = http.client.HTTPSConnection('apina.address.gov.sa')\n",
    "    for page_num in range(1, 2):\n",
    "                    conn.request(\"GET\", \"https://apina.address.gov.sa/NationalAddress/v3.1/address/poi-fixed-params?language=E&format=JSON&ServiceString=Entertainment&cityname=riyadh&api_key=01fb2a0d9be04a9d95332c3076c49a1e&page=\" + str(page_num))\n",
    "                    response = conn.getresponse()\n",
    "                    data= response.read()\n",
    "                    decode=data.decode('utf-8', 'ignore')\n",
    "                    astrings2.append(decode)\n",
    "                    time.sleep(5)\n",
    "                    conn.close()\n",
    "except Exception as e:\n",
    "    print(\"[Errno {0}] {1}\".format(e.errno, e.strerror))\n",
    "\n",
    "####################################"
   ]
  },
  {
   "cell_type": "markdown",
   "metadata": {},
   "source": [
    "## Data Assesment"
   ]
  },
  {
   "cell_type": "code",
   "execution_count": 139,
   "metadata": {},
   "outputs": [
    {
     "name": "stdout",
     "output_type": "stream",
     "text": [
      "1\n"
     ]
    }
   ],
   "source": [
    "print(len(astrings2))"
   ]
  },
  {
   "cell_type": "code",
   "execution_count": 140,
   "metadata": {},
   "outputs": [],
   "source": [
    "df=pd.Series(astrings2).to_frame()"
   ]
  },
  {
   "cell_type": "code",
   "execution_count": 141,
   "metadata": {},
   "outputs": [
    {
     "data": {
      "text/html": [
       "<div>\n",
       "<style scoped>\n",
       "    .dataframe tbody tr th:only-of-type {\n",
       "        vertical-align: middle;\n",
       "    }\n",
       "\n",
       "    .dataframe tbody tr th {\n",
       "        vertical-align: top;\n",
       "    }\n",
       "\n",
       "    .dataframe thead th {\n",
       "        text-align: right;\n",
       "    }\n",
       "</style>\n",
       "<table border=\"1\" class=\"dataframe\">\n",
       "  <thead>\n",
       "    <tr style=\"text-align: right;\">\n",
       "      <th></th>\n",
       "      <th>0</th>\n",
       "    </tr>\n",
       "  </thead>\n",
       "  <tbody>\n",
       "    <tr>\n",
       "      <td>0</td>\n",
       "      <td>{\"totalSearchResults\":\"6\",\"Addresses\":[{\"Title...</td>\n",
       "    </tr>\n",
       "  </tbody>\n",
       "</table>\n",
       "</div>"
      ],
      "text/plain": [
       "                                                   0\n",
       "0  {\"totalSearchResults\":\"6\",\"Addresses\":[{\"Title..."
      ]
     },
     "execution_count": 141,
     "metadata": {},
     "output_type": "execute_result"
    }
   ],
   "source": [
    "df.head(50)"
   ]
  },
  {
   "cell_type": "markdown",
   "metadata": {},
   "source": [
    "## Create a Dataframe"
   ]
  },
  {
   "cell_type": "code",
   "execution_count": 142,
   "metadata": {},
   "outputs": [],
   "source": [
    "x=0 \n",
    "for index, row in df.iterrows():\n",
    "    if x==0:\n",
    "              y=df[0][index]\n",
    "              result=pd.read_json (y)\n",
    "    else:\n",
    "                y=df[0][index]\n",
    "                result=result.append(pd.read_json (y))\n",
    "    x=x+1 "
   ]
  },
  {
   "cell_type": "code",
   "execution_count": 143,
   "metadata": {},
   "outputs": [
    {
     "data": {
      "text/html": [
       "<div>\n",
       "<style scoped>\n",
       "    .dataframe tbody tr th:only-of-type {\n",
       "        vertical-align: middle;\n",
       "    }\n",
       "\n",
       "    .dataframe tbody tr th {\n",
       "        vertical-align: top;\n",
       "    }\n",
       "\n",
       "    .dataframe thead th {\n",
       "        text-align: right;\n",
       "    }\n",
       "</style>\n",
       "<table border=\"1\" class=\"dataframe\">\n",
       "  <thead>\n",
       "    <tr style=\"text-align: right;\">\n",
       "      <th></th>\n",
       "      <th>totalSearchResults</th>\n",
       "      <th>Addresses</th>\n",
       "      <th>PostCode</th>\n",
       "      <th>success</th>\n",
       "      <th>result</th>\n",
       "      <th>statusdescription</th>\n",
       "      <th>fullexception</th>\n",
       "    </tr>\n",
       "  </thead>\n",
       "  <tbody>\n",
       "    <tr>\n",
       "      <td>0</td>\n",
       "      <td>6</td>\n",
       "      <td>{'Title': 'al hilal entertainment city', 'Addr...</td>\n",
       "      <td>NaN</td>\n",
       "      <td>True</td>\n",
       "      <td>NaN</td>\n",
       "      <td>SUCCESS</td>\n",
       "      <td>NaN</td>\n",
       "    </tr>\n",
       "    <tr>\n",
       "      <td>1</td>\n",
       "      <td>6</td>\n",
       "      <td>{'Title': 'fanatir international entertainment...</td>\n",
       "      <td>NaN</td>\n",
       "      <td>True</td>\n",
       "      <td>NaN</td>\n",
       "      <td>SUCCESS</td>\n",
       "      <td>NaN</td>\n",
       "    </tr>\n",
       "    <tr>\n",
       "      <td>2</td>\n",
       "      <td>6</td>\n",
       "      <td>{'Title': 'al rimal entertainment restaurant',...</td>\n",
       "      <td>NaN</td>\n",
       "      <td>True</td>\n",
       "      <td>NaN</td>\n",
       "      <td>SUCCESS</td>\n",
       "      <td>NaN</td>\n",
       "    </tr>\n",
       "    <tr>\n",
       "      <td>3</td>\n",
       "      <td>6</td>\n",
       "      <td>{'Title': 'al hokair entertainment and sports ...</td>\n",
       "      <td>NaN</td>\n",
       "      <td>True</td>\n",
       "      <td>NaN</td>\n",
       "      <td>SUCCESS</td>\n",
       "      <td>NaN</td>\n",
       "    </tr>\n",
       "    <tr>\n",
       "      <td>4</td>\n",
       "      <td>6</td>\n",
       "      <td>{'Title': 'home entertainment systems ', 'Addr...</td>\n",
       "      <td>NaN</td>\n",
       "      <td>True</td>\n",
       "      <td>NaN</td>\n",
       "      <td>SUCCESS</td>\n",
       "      <td>NaN</td>\n",
       "    </tr>\n",
       "    <tr>\n",
       "      <td>5</td>\n",
       "      <td>6</td>\n",
       "      <td>{'Title': 'cristal entertainment hall', 'Addre...</td>\n",
       "      <td>NaN</td>\n",
       "      <td>True</td>\n",
       "      <td>NaN</td>\n",
       "      <td>SUCCESS</td>\n",
       "      <td>NaN</td>\n",
       "    </tr>\n",
       "  </tbody>\n",
       "</table>\n",
       "</div>"
      ],
      "text/plain": [
       "   totalSearchResults                                          Addresses  \\\n",
       "0                   6  {'Title': 'al hilal entertainment city', 'Addr...   \n",
       "1                   6  {'Title': 'fanatir international entertainment...   \n",
       "2                   6  {'Title': 'al rimal entertainment restaurant',...   \n",
       "3                   6  {'Title': 'al hokair entertainment and sports ...   \n",
       "4                   6  {'Title': 'home entertainment systems ', 'Addr...   \n",
       "5                   6  {'Title': 'cristal entertainment hall', 'Addre...   \n",
       "\n",
       "   PostCode  success  result statusdescription  fullexception  \n",
       "0       NaN     True     NaN           SUCCESS            NaN  \n",
       "1       NaN     True     NaN           SUCCESS            NaN  \n",
       "2       NaN     True     NaN           SUCCESS            NaN  \n",
       "3       NaN     True     NaN           SUCCESS            NaN  \n",
       "4       NaN     True     NaN           SUCCESS            NaN  \n",
       "5       NaN     True     NaN           SUCCESS            NaN  "
      ]
     },
     "execution_count": 143,
     "metadata": {},
     "output_type": "execute_result"
    }
   ],
   "source": [
    "result.head(50)\n",
    "\n"
   ]
  },
  {
   "cell_type": "code",
   "execution_count": 144,
   "metadata": {},
   "outputs": [
    {
     "name": "stdout",
     "output_type": "stream",
     "text": [
      "<class 'pandas.core.frame.DataFrame'>\n",
      "RangeIndex: 6 entries, 0 to 5\n",
      "Data columns (total 7 columns):\n",
      "totalSearchResults    6 non-null int64\n",
      "Addresses             6 non-null object\n",
      "PostCode              0 non-null float64\n",
      "success               6 non-null bool\n",
      "result                0 non-null float64\n",
      "statusdescription     6 non-null object\n",
      "fullexception         0 non-null float64\n",
      "dtypes: bool(1), float64(3), int64(1), object(2)\n",
      "memory usage: 310.0+ bytes\n"
     ]
    }
   ],
   "source": [
    "result.info()"
   ]
  },
  {
   "cell_type": "markdown",
   "metadata": {},
   "source": [
    "## Data Cleaning"
   ]
  },
  {
   "cell_type": "code",
   "execution_count": 145,
   "metadata": {},
   "outputs": [],
   "source": [
    "result.drop([\"PostCode\",\"success\",'result','statusdescription','success','fullexception'], axis = 1, inplace = True) "
   ]
  },
  {
   "cell_type": "code",
   "execution_count": 146,
   "metadata": {},
   "outputs": [
    {
     "data": {
      "text/html": [
       "<div>\n",
       "<style scoped>\n",
       "    .dataframe tbody tr th:only-of-type {\n",
       "        vertical-align: middle;\n",
       "    }\n",
       "\n",
       "    .dataframe tbody tr th {\n",
       "        vertical-align: top;\n",
       "    }\n",
       "\n",
       "    .dataframe thead th {\n",
       "        text-align: right;\n",
       "    }\n",
       "</style>\n",
       "<table border=\"1\" class=\"dataframe\">\n",
       "  <thead>\n",
       "    <tr style=\"text-align: right;\">\n",
       "      <th></th>\n",
       "      <th>totalSearchResults</th>\n",
       "      <th>Addresses</th>\n",
       "    </tr>\n",
       "  </thead>\n",
       "  <tbody>\n",
       "    <tr>\n",
       "      <td>0</td>\n",
       "      <td>6</td>\n",
       "      <td>{'Title': 'al hilal entertainment city', 'Addr...</td>\n",
       "    </tr>\n",
       "    <tr>\n",
       "      <td>1</td>\n",
       "      <td>6</td>\n",
       "      <td>{'Title': 'fanatir international entertainment...</td>\n",
       "    </tr>\n",
       "    <tr>\n",
       "      <td>2</td>\n",
       "      <td>6</td>\n",
       "      <td>{'Title': 'al rimal entertainment restaurant',...</td>\n",
       "    </tr>\n",
       "    <tr>\n",
       "      <td>3</td>\n",
       "      <td>6</td>\n",
       "      <td>{'Title': 'al hokair entertainment and sports ...</td>\n",
       "    </tr>\n",
       "    <tr>\n",
       "      <td>4</td>\n",
       "      <td>6</td>\n",
       "      <td>{'Title': 'home entertainment systems ', 'Addr...</td>\n",
       "    </tr>\n",
       "  </tbody>\n",
       "</table>\n",
       "</div>"
      ],
      "text/plain": [
       "   totalSearchResults                                          Addresses\n",
       "0                   6  {'Title': 'al hilal entertainment city', 'Addr...\n",
       "1                   6  {'Title': 'fanatir international entertainment...\n",
       "2                   6  {'Title': 'al rimal entertainment restaurant',...\n",
       "3                   6  {'Title': 'al hokair entertainment and sports ...\n",
       "4                   6  {'Title': 'home entertainment systems ', 'Addr..."
      ]
     },
     "execution_count": 146,
     "metadata": {},
     "output_type": "execute_result"
    }
   ],
   "source": [
    "result.head()"
   ]
  },
  {
   "cell_type": "code",
   "execution_count": 147,
   "metadata": {},
   "outputs": [],
   "source": [
    "result['Addresses'] = result['Addresses'].astype(str)\n",
    "d=result.Addresses.str.split(',', expand = True)"
   ]
  },
  {
   "cell_type": "code",
   "execution_count": 148,
   "metadata": {},
   "outputs": [
    {
     "data": {
      "text/html": [
       "<div>\n",
       "<style scoped>\n",
       "    .dataframe tbody tr th:only-of-type {\n",
       "        vertical-align: middle;\n",
       "    }\n",
       "\n",
       "    .dataframe tbody tr th {\n",
       "        vertical-align: top;\n",
       "    }\n",
       "\n",
       "    .dataframe thead th {\n",
       "        text-align: right;\n",
       "    }\n",
       "</style>\n",
       "<table border=\"1\" class=\"dataframe\">\n",
       "  <thead>\n",
       "    <tr style=\"text-align: right;\">\n",
       "      <th></th>\n",
       "      <th>0</th>\n",
       "      <th>1</th>\n",
       "      <th>2</th>\n",
       "      <th>3</th>\n",
       "      <th>4</th>\n",
       "      <th>5</th>\n",
       "      <th>6</th>\n",
       "      <th>7</th>\n",
       "      <th>8</th>\n",
       "      <th>9</th>\n",
       "      <th>...</th>\n",
       "      <th>20</th>\n",
       "      <th>21</th>\n",
       "      <th>22</th>\n",
       "      <th>23</th>\n",
       "      <th>24</th>\n",
       "      <th>25</th>\n",
       "      <th>26</th>\n",
       "      <th>27</th>\n",
       "      <th>28</th>\n",
       "      <th>29</th>\n",
       "    </tr>\n",
       "  </thead>\n",
       "  <tbody>\n",
       "    <tr>\n",
       "      <td>0</td>\n",
       "      <td>{'Title': 'al hilal entertainment city'</td>\n",
       "      <td>'Address1': '3832 al imam abi hanifah - Middl...</td>\n",
       "      <td>'Address2': 'RIYADH 12954 - 6398'</td>\n",
       "      <td>'ObjLatLng': '12954002336 46.6201102460002 24...</td>\n",
       "      <td>'BuildingNumber': '3832'</td>\n",
       "      <td>'Street': 'al imam abi hanifah'</td>\n",
       "      <td>'District': 'Middle Oraija Dist.'</td>\n",
       "      <td>'City': 'RIYADH'</td>\n",
       "      <td>'PostCode': '12954'</td>\n",
       "      <td>'AdditionalNumber': '6398'</td>\n",
       "      <td>...</td>\n",
       "      <td>'DistrictID': '10100003128'</td>\n",
       "      <td>'Title_L2': '  '</td>\n",
       "      <td>'RegionName_L2': ' '</td>\n",
       "      <td>'City_L2': ''</td>\n",
       "      <td>'Street_L2': '  '</td>\n",
       "      <td>'District_L2': '  '</td>\n",
       "      <td>'CompanyName_L2': None</td>\n",
       "      <td>'GovernorateID': None</td>\n",
       "      <td>'Governorate': None</td>\n",
       "      <td>'Governorate_L2': None}</td>\n",
       "    </tr>\n",
       "    <tr>\n",
       "      <td>1</td>\n",
       "      <td>{'Title': 'fanatir international entertainment'</td>\n",
       "      <td>'Address1': '3948 al malik abdullah ibn abdul...</td>\n",
       "      <td>'Address2': 'RIYADH 12272 - 6583'</td>\n",
       "      <td>'ObjLatLng': '12272117815 46.6780977829663 24...</td>\n",
       "      <td>'BuildingNumber': '3948'</td>\n",
       "      <td>'Street': 'al malik abdullah ibn abdulaziz rd'</td>\n",
       "      <td>'District': 'King Fahd Dist.'</td>\n",
       "      <td>'City': 'RIYADH'</td>\n",
       "      <td>'PostCode': '12272'</td>\n",
       "      <td>'AdditionalNumber': '6583'</td>\n",
       "      <td>...</td>\n",
       "      <td>'DistrictID': '10100003017'</td>\n",
       "      <td>'Title_L2': '  '</td>\n",
       "      <td>'RegionName_L2': ' '</td>\n",
       "      <td>'City_L2': ''</td>\n",
       "      <td>'Street_L2': '    '</td>\n",
       "      <td>'District_L2': '  '</td>\n",
       "      <td>'CompanyName_L2': None</td>\n",
       "      <td>'GovernorateID': None</td>\n",
       "      <td>'Governorate': None</td>\n",
       "      <td>'Governorate_L2': None}</td>\n",
       "    </tr>\n",
       "    <tr>\n",
       "      <td>2</td>\n",
       "      <td>{'Title': 'al rimal entertainment restaurant'</td>\n",
       "      <td>'Address1': '2925 ath thumamah rd - Al Munisi...</td>\n",
       "      <td>'Address2': 'RIYADH 13255 - 8093'</td>\n",
       "      <td>'ObjLatLng': '13255008298 46.7693166810002 24...</td>\n",
       "      <td>'BuildingNumber': '2925'</td>\n",
       "      <td>'Street': 'ath thumamah rd'</td>\n",
       "      <td>'District': 'Al Munisiyah Dist.'</td>\n",
       "      <td>'City': 'RIYADH'</td>\n",
       "      <td>'PostCode': '13255'</td>\n",
       "      <td>'AdditionalNumber': '8093'</td>\n",
       "      <td>...</td>\n",
       "      <td>'DistrictID': '10100003140'</td>\n",
       "      <td>'Title_L2': '   '</td>\n",
       "      <td>'RegionName_L2': ' '</td>\n",
       "      <td>'City_L2': ''</td>\n",
       "      <td>'Street_L2': ' '</td>\n",
       "      <td>'District_L2': ' '</td>\n",
       "      <td>'CompanyName_L2': None</td>\n",
       "      <td>'GovernorateID': None</td>\n",
       "      <td>'Governorate': None</td>\n",
       "      <td>'Governorate_L2': None}</td>\n",
       "    </tr>\n",
       "    <tr>\n",
       "      <td>3</td>\n",
       "      <td>{'Title': 'al hokair entertainment and sports '</td>\n",
       "      <td>'Address1': '4004 umar ibn abdul aziz branch ...</td>\n",
       "      <td>'Address2': 'RIYADH 12824 - 6483'</td>\n",
       "      <td>'ObjLatLng': '12824007897 46.7647698612286 24...</td>\n",
       "      <td>'BuildingNumber': '4004'</td>\n",
       "      <td>'Street': 'umar ibn abdul aziz branch rd'</td>\n",
       "      <td>'District': 'Al Rabwah Dist.'</td>\n",
       "      <td>'City': 'RIYADH'</td>\n",
       "      <td>'PostCode': '12824'</td>\n",
       "      <td>'AdditionalNumber': '6483'</td>\n",
       "      <td>...</td>\n",
       "      <td>'DistrictID': '10100003047'</td>\n",
       "      <td>'Title_L2': '  '</td>\n",
       "      <td>'RegionName_L2': ' '</td>\n",
       "      <td>'City_L2': ''</td>\n",
       "      <td>'Street_L2': '    '</td>\n",
       "      <td>'District_L2': ' '</td>\n",
       "      <td>'CompanyName_L2': None</td>\n",
       "      <td>'GovernorateID': None</td>\n",
       "      <td>'Governorate': None</td>\n",
       "      <td>'Governorate_L2': None}</td>\n",
       "    </tr>\n",
       "    <tr>\n",
       "      <td>4</td>\n",
       "      <td>{'Title': 'home entertainment systems '</td>\n",
       "      <td>'Address1': '2960 as sail al kabir - Al Ghade...</td>\n",
       "      <td>'Address2': 'RIYADH 13311 - 7088'</td>\n",
       "      <td>'ObjLatLng': '13311118816 46.6483540297983 24...</td>\n",
       "      <td>'BuildingNumber': '2960'</td>\n",
       "      <td>'Street': 'as sail al kabir'</td>\n",
       "      <td>'District': 'Al Ghadeer Dist.'</td>\n",
       "      <td>'City': 'RIYADH'</td>\n",
       "      <td>'PostCode': '13311'</td>\n",
       "      <td>'AdditionalNumber': '7088'</td>\n",
       "      <td>...</td>\n",
       "      <td>'DistrictID': '10100003109'</td>\n",
       "      <td>'Title_L2': '    '</td>\n",
       "      <td>'RegionName_L2': ' '</td>\n",
       "      <td>'City_L2': ''</td>\n",
       "      <td>'Street_L2': ' '</td>\n",
       "      <td>'District_L2': ' '</td>\n",
       "      <td>'CompanyName_L2': None</td>\n",
       "      <td>'GovernorateID': None</td>\n",
       "      <td>'Governorate': None</td>\n",
       "      <td>'Governorate_L2': None}</td>\n",
       "    </tr>\n",
       "  </tbody>\n",
       "</table>\n",
       "<p>5 rows × 30 columns</p>\n",
       "</div>"
      ],
      "text/plain": [
       "                                                0   \\\n",
       "0          {'Title': 'al hilal entertainment city'   \n",
       "1  {'Title': 'fanatir international entertainment'   \n",
       "2    {'Title': 'al rimal entertainment restaurant'   \n",
       "3  {'Title': 'al hokair entertainment and sports '   \n",
       "4          {'Title': 'home entertainment systems '   \n",
       "\n",
       "                                                  1   \\\n",
       "0   'Address1': '3832 al imam abi hanifah - Middl...   \n",
       "1   'Address1': '3948 al malik abdullah ibn abdul...   \n",
       "2   'Address1': '2925 ath thumamah rd - Al Munisi...   \n",
       "3   'Address1': '4004 umar ibn abdul aziz branch ...   \n",
       "4   'Address1': '2960 as sail al kabir - Al Ghade...   \n",
       "\n",
       "                                   2   \\\n",
       "0   'Address2': 'RIYADH 12954 - 6398'   \n",
       "1   'Address2': 'RIYADH 12272 - 6583'   \n",
       "2   'Address2': 'RIYADH 13255 - 8093'   \n",
       "3   'Address2': 'RIYADH 12824 - 6483'   \n",
       "4   'Address2': 'RIYADH 13311 - 7088'   \n",
       "\n",
       "                                                  3   \\\n",
       "0   'ObjLatLng': '12954002336 46.6201102460002 24...   \n",
       "1   'ObjLatLng': '12272117815 46.6780977829663 24...   \n",
       "2   'ObjLatLng': '13255008298 46.7693166810002 24...   \n",
       "3   'ObjLatLng': '12824007897 46.7647698612286 24...   \n",
       "4   'ObjLatLng': '13311118816 46.6483540297983 24...   \n",
       "\n",
       "                          4                                                5   \\\n",
       "0   'BuildingNumber': '3832'                  'Street': 'al imam abi hanifah'   \n",
       "1   'BuildingNumber': '3948'   'Street': 'al malik abdullah ibn abdulaziz rd'   \n",
       "2   'BuildingNumber': '2925'                      'Street': 'ath thumamah rd'   \n",
       "3   'BuildingNumber': '4004'        'Street': 'umar ibn abdul aziz branch rd'   \n",
       "4   'BuildingNumber': '2960'                     'Street': 'as sail al kabir'   \n",
       "\n",
       "                                   6                  7   \\\n",
       "0   'District': 'Middle Oraija Dist.'   'City': 'RIYADH'   \n",
       "1       'District': 'King Fahd Dist.'   'City': 'RIYADH'   \n",
       "2    'District': 'Al Munisiyah Dist.'   'City': 'RIYADH'   \n",
       "3       'District': 'Al Rabwah Dist.'   'City': 'RIYADH'   \n",
       "4      'District': 'Al Ghadeer Dist.'   'City': 'RIYADH'   \n",
       "\n",
       "                     8                            9   ...  \\\n",
       "0   'PostCode': '12954'   'AdditionalNumber': '6398'  ...   \n",
       "1   'PostCode': '12272'   'AdditionalNumber': '6583'  ...   \n",
       "2   'PostCode': '13255'   'AdditionalNumber': '8093'  ...   \n",
       "3   'PostCode': '12824'   'AdditionalNumber': '6483'  ...   \n",
       "4   'PostCode': '13311'   'AdditionalNumber': '7088'  ...   \n",
       "\n",
       "                             20                   21                     22  \\\n",
       "0   'DistrictID': '10100003128'     'Title_L2': '  '   'RegionName_L2': ' '   \n",
       "1   'DistrictID': '10100003017'     'Title_L2': '  '   'RegionName_L2': ' '   \n",
       "2   'DistrictID': '10100003140'    'Title_L2': '   '   'RegionName_L2': ' '   \n",
       "3   'DistrictID': '10100003047'     'Title_L2': '  '   'RegionName_L2': ' '   \n",
       "4   'DistrictID': '10100003109'   'Title_L2': '    '   'RegionName_L2': ' '   \n",
       "\n",
       "               23                    24                    25  \\\n",
       "0   'City_L2': ''     'Street_L2': '  '   'District_L2': '  '   \n",
       "1   'City_L2': ''   'Street_L2': '    '   'District_L2': '  '   \n",
       "2   'City_L2': ''      'Street_L2': ' '    'District_L2': ' '   \n",
       "3   'City_L2': ''   'Street_L2': '    '    'District_L2': ' '   \n",
       "4   'City_L2': ''      'Street_L2': ' '    'District_L2': ' '   \n",
       "\n",
       "                        26                      27                    28  \\\n",
       "0   'CompanyName_L2': None   'GovernorateID': None   'Governorate': None   \n",
       "1   'CompanyName_L2': None   'GovernorateID': None   'Governorate': None   \n",
       "2   'CompanyName_L2': None   'GovernorateID': None   'Governorate': None   \n",
       "3   'CompanyName_L2': None   'GovernorateID': None   'Governorate': None   \n",
       "4   'CompanyName_L2': None   'GovernorateID': None   'Governorate': None   \n",
       "\n",
       "                         29  \n",
       "0   'Governorate_L2': None}  \n",
       "1   'Governorate_L2': None}  \n",
       "2   'Governorate_L2': None}  \n",
       "3   'Governorate_L2': None}  \n",
       "4   'Governorate_L2': None}  \n",
       "\n",
       "[5 rows x 30 columns]"
      ]
     },
     "execution_count": 148,
     "metadata": {},
     "output_type": "execute_result"
    }
   ],
   "source": [
    "d.head()"
   ]
  },
  {
   "cell_type": "code",
   "execution_count": 149,
   "metadata": {},
   "outputs": [],
   "source": [
    "d.drop([2,3,19,4,5,7,8,9,10,11,12,13,17,18,16,21,22,23,24,25,26,27,28,29], axis = 1, inplace = True) "
   ]
  },
  {
   "cell_type": "code",
   "execution_count": 150,
   "metadata": {},
   "outputs": [
    {
     "name": "stdout",
     "output_type": "stream",
     "text": [
      "<class 'pandas.core.frame.DataFrame'>\n",
      "RangeIndex: 6 entries, 0 to 5\n",
      "Data columns (total 6 columns):\n",
      "0     6 non-null object\n",
      "1     6 non-null object\n",
      "6     6 non-null object\n",
      "14    6 non-null object\n",
      "15    6 non-null object\n",
      "20    6 non-null object\n",
      "dtypes: object(6)\n",
      "memory usage: 208.0+ bytes\n"
     ]
    }
   ],
   "source": [
    "d.info()"
   ]
  },
  {
   "cell_type": "code",
   "execution_count": 151,
   "metadata": {},
   "outputs": [
    {
     "data": {
      "text/html": [
       "<div>\n",
       "<style scoped>\n",
       "    .dataframe tbody tr th:only-of-type {\n",
       "        vertical-align: middle;\n",
       "    }\n",
       "\n",
       "    .dataframe tbody tr th {\n",
       "        vertical-align: top;\n",
       "    }\n",
       "\n",
       "    .dataframe thead th {\n",
       "        text-align: right;\n",
       "    }\n",
       "</style>\n",
       "<table border=\"1\" class=\"dataframe\">\n",
       "  <thead>\n",
       "    <tr style=\"text-align: right;\">\n",
       "      <th></th>\n",
       "      <th>0</th>\n",
       "      <th>1</th>\n",
       "      <th>6</th>\n",
       "      <th>14</th>\n",
       "      <th>15</th>\n",
       "      <th>20</th>\n",
       "    </tr>\n",
       "  </thead>\n",
       "  <tbody>\n",
       "    <tr>\n",
       "      <td>0</td>\n",
       "      <td>{'Title': 'al hilal entertainment city'</td>\n",
       "      <td>'Address1': '3832 al imam abi hanifah - Middl...</td>\n",
       "      <td>'District': 'Middle Oraija Dist.'</td>\n",
       "      <td>'Latitude': '24.604682649'</td>\n",
       "      <td>'Longitude': '46.6201102460002'</td>\n",
       "      <td>'DistrictID': '10100003128'</td>\n",
       "    </tr>\n",
       "    <tr>\n",
       "      <td>1</td>\n",
       "      <td>{'Title': 'fanatir international entertainment'</td>\n",
       "      <td>'Address1': '3948 al malik abdullah ibn abdul...</td>\n",
       "      <td>'District': 'King Fahd Dist.'</td>\n",
       "      <td>'Latitude': '24.7342519052837'</td>\n",
       "      <td>'Longitude': '46.6780977829663'</td>\n",
       "      <td>'DistrictID': '10100003017'</td>\n",
       "    </tr>\n",
       "    <tr>\n",
       "      <td>2</td>\n",
       "      <td>{'Title': 'al rimal entertainment restaurant'</td>\n",
       "      <td>'Address1': '2925 ath thumamah rd - Al Munisi...</td>\n",
       "      <td>'District': 'Al Munisiyah Dist.'</td>\n",
       "      <td>'Latitude': '24.8505710070002'</td>\n",
       "      <td>'Longitude': '46.7693166810002'</td>\n",
       "      <td>'DistrictID': '10100003140'</td>\n",
       "    </tr>\n",
       "    <tr>\n",
       "      <td>3</td>\n",
       "      <td>{'Title': 'al hokair entertainment and sports '</td>\n",
       "      <td>'Address1': '4004 umar ibn abdul aziz branch ...</td>\n",
       "      <td>'District': 'Al Rabwah Dist.'</td>\n",
       "      <td>'Latitude': '24.6925357077015'</td>\n",
       "      <td>'Longitude': '46.7647698612286'</td>\n",
       "      <td>'DistrictID': '10100003047'</td>\n",
       "    </tr>\n",
       "    <tr>\n",
       "      <td>4</td>\n",
       "      <td>{'Title': 'home entertainment systems '</td>\n",
       "      <td>'Address1': '2960 as sail al kabir - Al Ghade...</td>\n",
       "      <td>'District': 'Al Ghadeer Dist.'</td>\n",
       "      <td>'Latitude': '24.7706639821298'</td>\n",
       "      <td>'Longitude': '46.6483540297983'</td>\n",
       "      <td>'DistrictID': '10100003109'</td>\n",
       "    </tr>\n",
       "  </tbody>\n",
       "</table>\n",
       "</div>"
      ],
      "text/plain": [
       "                                                0   \\\n",
       "0          {'Title': 'al hilal entertainment city'   \n",
       "1  {'Title': 'fanatir international entertainment'   \n",
       "2    {'Title': 'al rimal entertainment restaurant'   \n",
       "3  {'Title': 'al hokair entertainment and sports '   \n",
       "4          {'Title': 'home entertainment systems '   \n",
       "\n",
       "                                                  1   \\\n",
       "0   'Address1': '3832 al imam abi hanifah - Middl...   \n",
       "1   'Address1': '3948 al malik abdullah ibn abdul...   \n",
       "2   'Address1': '2925 ath thumamah rd - Al Munisi...   \n",
       "3   'Address1': '4004 umar ibn abdul aziz branch ...   \n",
       "4   'Address1': '2960 as sail al kabir - Al Ghade...   \n",
       "\n",
       "                                   6                                14  \\\n",
       "0   'District': 'Middle Oraija Dist.'       'Latitude': '24.604682649'   \n",
       "1       'District': 'King Fahd Dist.'   'Latitude': '24.7342519052837'   \n",
       "2    'District': 'Al Munisiyah Dist.'   'Latitude': '24.8505710070002'   \n",
       "3       'District': 'Al Rabwah Dist.'   'Latitude': '24.6925357077015'   \n",
       "4      'District': 'Al Ghadeer Dist.'   'Latitude': '24.7706639821298'   \n",
       "\n",
       "                                 15                            20  \n",
       "0   'Longitude': '46.6201102460002'   'DistrictID': '10100003128'  \n",
       "1   'Longitude': '46.6780977829663'   'DistrictID': '10100003017'  \n",
       "2   'Longitude': '46.7693166810002'   'DistrictID': '10100003140'  \n",
       "3   'Longitude': '46.7647698612286'   'DistrictID': '10100003047'  \n",
       "4   'Longitude': '46.6483540297983'   'DistrictID': '10100003109'  "
      ]
     },
     "execution_count": 151,
     "metadata": {},
     "output_type": "execute_result"
    }
   ],
   "source": [
    "d.head()"
   ]
  },
  {
   "cell_type": "code",
   "execution_count": 152,
   "metadata": {},
   "outputs": [],
   "source": [
    "d.columns = [\"title\",\"address\",\"district\",\"latitude\",\"longitude\",\"id\"]"
   ]
  },
  {
   "cell_type": "code",
   "execution_count": 153,
   "metadata": {},
   "outputs": [
    {
     "data": {
      "text/html": [
       "<div>\n",
       "<style scoped>\n",
       "    .dataframe tbody tr th:only-of-type {\n",
       "        vertical-align: middle;\n",
       "    }\n",
       "\n",
       "    .dataframe tbody tr th {\n",
       "        vertical-align: top;\n",
       "    }\n",
       "\n",
       "    .dataframe thead th {\n",
       "        text-align: right;\n",
       "    }\n",
       "</style>\n",
       "<table border=\"1\" class=\"dataframe\">\n",
       "  <thead>\n",
       "    <tr style=\"text-align: right;\">\n",
       "      <th></th>\n",
       "      <th>title</th>\n",
       "      <th>address</th>\n",
       "      <th>district</th>\n",
       "      <th>latitude</th>\n",
       "      <th>longitude</th>\n",
       "      <th>id</th>\n",
       "    </tr>\n",
       "  </thead>\n",
       "  <tbody>\n",
       "    <tr>\n",
       "      <td>0</td>\n",
       "      <td>{'Title': 'al hilal entertainment city'</td>\n",
       "      <td>'Address1': '3832 al imam abi hanifah - Middl...</td>\n",
       "      <td>'District': 'Middle Oraija Dist.'</td>\n",
       "      <td>'Latitude': '24.604682649'</td>\n",
       "      <td>'Longitude': '46.6201102460002'</td>\n",
       "      <td>'DistrictID': '10100003128'</td>\n",
       "    </tr>\n",
       "    <tr>\n",
       "      <td>1</td>\n",
       "      <td>{'Title': 'fanatir international entertainment'</td>\n",
       "      <td>'Address1': '3948 al malik abdullah ibn abdul...</td>\n",
       "      <td>'District': 'King Fahd Dist.'</td>\n",
       "      <td>'Latitude': '24.7342519052837'</td>\n",
       "      <td>'Longitude': '46.6780977829663'</td>\n",
       "      <td>'DistrictID': '10100003017'</td>\n",
       "    </tr>\n",
       "    <tr>\n",
       "      <td>2</td>\n",
       "      <td>{'Title': 'al rimal entertainment restaurant'</td>\n",
       "      <td>'Address1': '2925 ath thumamah rd - Al Munisi...</td>\n",
       "      <td>'District': 'Al Munisiyah Dist.'</td>\n",
       "      <td>'Latitude': '24.8505710070002'</td>\n",
       "      <td>'Longitude': '46.7693166810002'</td>\n",
       "      <td>'DistrictID': '10100003140'</td>\n",
       "    </tr>\n",
       "    <tr>\n",
       "      <td>3</td>\n",
       "      <td>{'Title': 'al hokair entertainment and sports '</td>\n",
       "      <td>'Address1': '4004 umar ibn abdul aziz branch ...</td>\n",
       "      <td>'District': 'Al Rabwah Dist.'</td>\n",
       "      <td>'Latitude': '24.6925357077015'</td>\n",
       "      <td>'Longitude': '46.7647698612286'</td>\n",
       "      <td>'DistrictID': '10100003047'</td>\n",
       "    </tr>\n",
       "    <tr>\n",
       "      <td>4</td>\n",
       "      <td>{'Title': 'home entertainment systems '</td>\n",
       "      <td>'Address1': '2960 as sail al kabir - Al Ghade...</td>\n",
       "      <td>'District': 'Al Ghadeer Dist.'</td>\n",
       "      <td>'Latitude': '24.7706639821298'</td>\n",
       "      <td>'Longitude': '46.6483540297983'</td>\n",
       "      <td>'DistrictID': '10100003109'</td>\n",
       "    </tr>\n",
       "  </tbody>\n",
       "</table>\n",
       "</div>"
      ],
      "text/plain": [
       "                                             title  \\\n",
       "0          {'Title': 'al hilal entertainment city'   \n",
       "1  {'Title': 'fanatir international entertainment'   \n",
       "2    {'Title': 'al rimal entertainment restaurant'   \n",
       "3  {'Title': 'al hokair entertainment and sports '   \n",
       "4          {'Title': 'home entertainment systems '   \n",
       "\n",
       "                                             address  \\\n",
       "0   'Address1': '3832 al imam abi hanifah - Middl...   \n",
       "1   'Address1': '3948 al malik abdullah ibn abdul...   \n",
       "2   'Address1': '2925 ath thumamah rd - Al Munisi...   \n",
       "3   'Address1': '4004 umar ibn abdul aziz branch ...   \n",
       "4   'Address1': '2960 as sail al kabir - Al Ghade...   \n",
       "\n",
       "                             district                         latitude  \\\n",
       "0   'District': 'Middle Oraija Dist.'       'Latitude': '24.604682649'   \n",
       "1       'District': 'King Fahd Dist.'   'Latitude': '24.7342519052837'   \n",
       "2    'District': 'Al Munisiyah Dist.'   'Latitude': '24.8505710070002'   \n",
       "3       'District': 'Al Rabwah Dist.'   'Latitude': '24.6925357077015'   \n",
       "4      'District': 'Al Ghadeer Dist.'   'Latitude': '24.7706639821298'   \n",
       "\n",
       "                          longitude                            id  \n",
       "0   'Longitude': '46.6201102460002'   'DistrictID': '10100003128'  \n",
       "1   'Longitude': '46.6780977829663'   'DistrictID': '10100003017'  \n",
       "2   'Longitude': '46.7693166810002'   'DistrictID': '10100003140'  \n",
       "3   'Longitude': '46.7647698612286'   'DistrictID': '10100003047'  \n",
       "4   'Longitude': '46.6483540297983'   'DistrictID': '10100003109'  "
      ]
     },
     "execution_count": 153,
     "metadata": {},
     "output_type": "execute_result"
    }
   ],
   "source": [
    "d.head()"
   ]
  },
  {
   "cell_type": "code",
   "execution_count": 154,
   "metadata": {},
   "outputs": [],
   "source": [
    "d['title']=d.title.str.strip('{\\'Title\\': \\'')\n",
    "  "
   ]
  },
  {
   "cell_type": "code",
   "execution_count": 155,
   "metadata": {},
   "outputs": [],
   "source": [
    "d['address']=d.address.str.strip('\\'Address1\\': \\'')"
   ]
  },
  {
   "cell_type": "code",
   "execution_count": 156,
   "metadata": {},
   "outputs": [],
   "source": [
    "d['district']=d.district.str.strip('\\'District\\': \\'')"
   ]
  },
  {
   "cell_type": "code",
   "execution_count": 157,
   "metadata": {},
   "outputs": [],
   "source": [
    "d['latitude']=d.latitude.str.strip('\\'Latitude\\': \\'')"
   ]
  },
  {
   "cell_type": "code",
   "execution_count": 158,
   "metadata": {},
   "outputs": [],
   "source": [
    "d['district']=d.district.str.strip('Dist.')"
   ]
  },
  {
   "cell_type": "code",
   "execution_count": 159,
   "metadata": {},
   "outputs": [],
   "source": [
    "d['longitude']=d.longitude.str.strip('\\'Longitude\\': \\'')"
   ]
  },
  {
   "cell_type": "code",
   "execution_count": 160,
   "metadata": {},
   "outputs": [],
   "source": [
    "d['id']=d.id.str.strip('\\'DistrictID\\': \\'')"
   ]
  },
  {
   "cell_type": "code",
   "execution_count": 161,
   "metadata": {},
   "outputs": [
    {
     "data": {
      "text/html": [
       "<div>\n",
       "<style scoped>\n",
       "    .dataframe tbody tr th:only-of-type {\n",
       "        vertical-align: middle;\n",
       "    }\n",
       "\n",
       "    .dataframe tbody tr th {\n",
       "        vertical-align: top;\n",
       "    }\n",
       "\n",
       "    .dataframe thead th {\n",
       "        text-align: right;\n",
       "    }\n",
       "</style>\n",
       "<table border=\"1\" class=\"dataframe\">\n",
       "  <thead>\n",
       "    <tr style=\"text-align: right;\">\n",
       "      <th></th>\n",
       "      <th>title</th>\n",
       "      <th>address</th>\n",
       "      <th>district</th>\n",
       "      <th>latitude</th>\n",
       "      <th>longitude</th>\n",
       "      <th>id</th>\n",
       "    </tr>\n",
       "  </thead>\n",
       "  <tbody>\n",
       "    <tr>\n",
       "      <td>0</td>\n",
       "      <td>al hilal entertainment city</td>\n",
       "      <td>3832 al imam abi hanifah - Middle Oraija Dist.</td>\n",
       "      <td>Middle Oraija</td>\n",
       "      <td>24.604682649</td>\n",
       "      <td>46.6201102460002</td>\n",
       "      <td>10100003128</td>\n",
       "    </tr>\n",
       "    <tr>\n",
       "      <td>1</td>\n",
       "      <td>fanatir international entertainmen</td>\n",
       "      <td>3948 al malik abdullah ibn abdulaziz rd - King...</td>\n",
       "      <td>King Fahd</td>\n",
       "      <td>24.7342519052837</td>\n",
       "      <td>46.6780977829663</td>\n",
       "      <td>10100003017</td>\n",
       "    </tr>\n",
       "    <tr>\n",
       "      <td>2</td>\n",
       "      <td>al rimal entertainment restauran</td>\n",
       "      <td>2925 ath thumamah rd - Al Munisiyah Dist.</td>\n",
       "      <td>Al Munisiyah</td>\n",
       "      <td>24.8505710070002</td>\n",
       "      <td>46.7693166810002</td>\n",
       "      <td>10100003140</td>\n",
       "    </tr>\n",
       "    <tr>\n",
       "      <td>3</td>\n",
       "      <td>al hokair entertainment and sports</td>\n",
       "      <td>4004 umar ibn abdul aziz branch rd - Al Rabwah...</td>\n",
       "      <td>Al Rabwah</td>\n",
       "      <td>24.6925357077015</td>\n",
       "      <td>46.7647698612286</td>\n",
       "      <td>10100003047</td>\n",
       "    </tr>\n",
       "    <tr>\n",
       "      <td>4</td>\n",
       "      <td>home entertainment systems</td>\n",
       "      <td>2960 as sail al kabir - Al Ghadeer Dist.</td>\n",
       "      <td>Al Ghadeer</td>\n",
       "      <td>24.7706639821298</td>\n",
       "      <td>46.6483540297983</td>\n",
       "      <td>10100003109</td>\n",
       "    </tr>\n",
       "  </tbody>\n",
       "</table>\n",
       "</div>"
      ],
      "text/plain": [
       "                                title  \\\n",
       "0         al hilal entertainment city   \n",
       "1  fanatir international entertainmen   \n",
       "2    al rimal entertainment restauran   \n",
       "3  al hokair entertainment and sports   \n",
       "4          home entertainment systems   \n",
       "\n",
       "                                             address        district  \\\n",
       "0     3832 al imam abi hanifah - Middle Oraija Dist.  Middle Oraija    \n",
       "1  3948 al malik abdullah ibn abdulaziz rd - King...      King Fahd    \n",
       "2          2925 ath thumamah rd - Al Munisiyah Dist.   Al Munisiyah    \n",
       "3  4004 umar ibn abdul aziz branch rd - Al Rabwah...      Al Rabwah    \n",
       "4           2960 as sail al kabir - Al Ghadeer Dist.     Al Ghadeer    \n",
       "\n",
       "           latitude         longitude           id  \n",
       "0      24.604682649  46.6201102460002  10100003128  \n",
       "1  24.7342519052837  46.6780977829663  10100003017  \n",
       "2  24.8505710070002  46.7693166810002  10100003140  \n",
       "3  24.6925357077015  46.7647698612286  10100003047  \n",
       "4  24.7706639821298  46.6483540297983  10100003109  "
      ]
     },
     "execution_count": 161,
     "metadata": {},
     "output_type": "execute_result"
    }
   ],
   "source": [
    "d.head()"
   ]
  },
  {
   "cell_type": "code",
   "execution_count": null,
   "metadata": {},
   "outputs": [],
   "source": [
    "d.to_csv(\"entertainment.csv\") "
   ]
  },
  {
   "cell_type": "markdown",
   "metadata": {},
   "source": [
    "## Transalation "
   ]
  },
  {
   "cell_type": "code",
   "execution_count": null,
   "metadata": {},
   "outputs": [],
   "source": [
    "d=pd.read_csv('entertainment.csv')"
   ]
  },
  {
   "cell_type": "code",
   "execution_count": null,
   "metadata": {},
   "outputs": [],
   "source": [
    "import googletrans \n",
    "from googletrans import Translator"
   ]
  },
  {
   "cell_type": "code",
   "execution_count": null,
   "metadata": {},
   "outputs": [],
   "source": [
    "translator = Translator()\n",
    "for index, row in d.iterrows():\n",
    "    element= d['title'][index]\n",
    "    d['title'][index]= translator.translate(element,dest='ar').text"
   ]
  },
  {
   "cell_type": "code",
   "execution_count": null,
   "metadata": {},
   "outputs": [],
   "source": []
  },
  {
   "cell_type": "markdown",
   "metadata": {},
   "source": [
    "## KPI Calculation"
   ]
  },
  {
   "cell_type": "code",
   "execution_count": 1,
   "metadata": {},
   "outputs": [
    {
     "ename": "NameError",
     "evalue": "name 'd' is not defined",
     "output_type": "error",
     "traceback": [
      "\u001b[1;31m---------------------------------------------------------------------------\u001b[0m",
      "\u001b[1;31mNameError\u001b[0m                                 Traceback (most recent call last)",
      "\u001b[1;32m<ipython-input-1-be8b5d3f221c>\u001b[0m in \u001b[0;36m<module>\u001b[1;34m\u001b[0m\n\u001b[1;32m----> 1\u001b[1;33m \u001b[0mc\u001b[0m\u001b[1;33m=\u001b[0m\u001b[0md\u001b[0m\u001b[1;33m.\u001b[0m\u001b[0mgroupby\u001b[0m\u001b[1;33m(\u001b[0m\u001b[1;33m[\u001b[0m\u001b[1;34m'id'\u001b[0m\u001b[1;33m,\u001b[0m\u001b[1;34m'district'\u001b[0m\u001b[1;33m]\u001b[0m\u001b[1;33m)\u001b[0m\u001b[1;33m.\u001b[0m\u001b[0mcount\u001b[0m\u001b[1;33m(\u001b[0m\u001b[1;33m)\u001b[0m\u001b[1;33m\u001b[0m\u001b[1;33m\u001b[0m\u001b[0m\n\u001b[0m",
      "\u001b[1;31mNameError\u001b[0m: name 'd' is not defined"
     ]
    }
   ],
   "source": [
    "c=d.groupby(['id','district']).count()"
   ]
  },
  {
   "cell_type": "code",
   "execution_count": 163,
   "metadata": {},
   "outputs": [
    {
     "data": {
      "text/html": [
       "<div>\n",
       "<style scoped>\n",
       "    .dataframe tbody tr th:only-of-type {\n",
       "        vertical-align: middle;\n",
       "    }\n",
       "\n",
       "    .dataframe tbody tr th {\n",
       "        vertical-align: top;\n",
       "    }\n",
       "\n",
       "    .dataframe thead th {\n",
       "        text-align: right;\n",
       "    }\n",
       "</style>\n",
       "<table border=\"1\" class=\"dataframe\">\n",
       "  <thead>\n",
       "    <tr style=\"text-align: right;\">\n",
       "      <th></th>\n",
       "      <th></th>\n",
       "      <th>title</th>\n",
       "      <th>address</th>\n",
       "      <th>latitude</th>\n",
       "      <th>longitude</th>\n",
       "    </tr>\n",
       "    <tr>\n",
       "      <th>id</th>\n",
       "      <th>district</th>\n",
       "      <th></th>\n",
       "      <th></th>\n",
       "      <th></th>\n",
       "      <th></th>\n",
       "    </tr>\n",
       "  </thead>\n",
       "  <tbody>\n",
       "    <tr>\n",
       "      <td>10100003017</td>\n",
       "      <td>King Fahd</td>\n",
       "      <td>1</td>\n",
       "      <td>1</td>\n",
       "      <td>1</td>\n",
       "      <td>1</td>\n",
       "    </tr>\n",
       "    <tr>\n",
       "      <td>10100003047</td>\n",
       "      <td>Al Rabwah</td>\n",
       "      <td>1</td>\n",
       "      <td>1</td>\n",
       "      <td>1</td>\n",
       "      <td>1</td>\n",
       "    </tr>\n",
       "    <tr>\n",
       "      <td>10100003109</td>\n",
       "      <td>Al Ghadeer</td>\n",
       "      <td>1</td>\n",
       "      <td>1</td>\n",
       "      <td>1</td>\n",
       "      <td>1</td>\n",
       "    </tr>\n",
       "    <tr>\n",
       "      <td>10100003128</td>\n",
       "      <td>Middle Oraija</td>\n",
       "      <td>2</td>\n",
       "      <td>2</td>\n",
       "      <td>2</td>\n",
       "      <td>2</td>\n",
       "    </tr>\n",
       "    <tr>\n",
       "      <td>10100003140</td>\n",
       "      <td>Al Munisiyah</td>\n",
       "      <td>1</td>\n",
       "      <td>1</td>\n",
       "      <td>1</td>\n",
       "      <td>1</td>\n",
       "    </tr>\n",
       "  </tbody>\n",
       "</table>\n",
       "</div>"
      ],
      "text/plain": [
       "                            title  address  latitude  longitude\n",
       "id          district                                           \n",
       "10100003017 King Fahd           1        1         1          1\n",
       "10100003047 Al Rabwah           1        1         1          1\n",
       "10100003109 Al Ghadeer          1        1         1          1\n",
       "10100003128 Middle Oraija       2        2         2          2\n",
       "10100003140 Al Munisiyah        1        1         1          1"
      ]
     },
     "execution_count": 163,
     "metadata": {},
     "output_type": "execute_result"
    }
   ],
   "source": [
    "c.head()"
   ]
  },
  {
   "cell_type": "code",
   "execution_count": 164,
   "metadata": {},
   "outputs": [],
   "source": [
    "c.drop([\"address\",'latitude','longitude'], axis = 1, inplace = True) "
   ]
  },
  {
   "cell_type": "code",
   "execution_count": 165,
   "metadata": {},
   "outputs": [
    {
     "data": {
      "text/html": [
       "<div>\n",
       "<style scoped>\n",
       "    .dataframe tbody tr th:only-of-type {\n",
       "        vertical-align: middle;\n",
       "    }\n",
       "\n",
       "    .dataframe tbody tr th {\n",
       "        vertical-align: top;\n",
       "    }\n",
       "\n",
       "    .dataframe thead th {\n",
       "        text-align: right;\n",
       "    }\n",
       "</style>\n",
       "<table border=\"1\" class=\"dataframe\">\n",
       "  <thead>\n",
       "    <tr style=\"text-align: right;\">\n",
       "      <th></th>\n",
       "      <th></th>\n",
       "      <th>title</th>\n",
       "    </tr>\n",
       "    <tr>\n",
       "      <th>id</th>\n",
       "      <th>district</th>\n",
       "      <th></th>\n",
       "    </tr>\n",
       "  </thead>\n",
       "  <tbody>\n",
       "    <tr>\n",
       "      <td>10100003017</td>\n",
       "      <td>King Fahd</td>\n",
       "      <td>1</td>\n",
       "    </tr>\n",
       "    <tr>\n",
       "      <td>10100003047</td>\n",
       "      <td>Al Rabwah</td>\n",
       "      <td>1</td>\n",
       "    </tr>\n",
       "    <tr>\n",
       "      <td>10100003109</td>\n",
       "      <td>Al Ghadeer</td>\n",
       "      <td>1</td>\n",
       "    </tr>\n",
       "    <tr>\n",
       "      <td>10100003128</td>\n",
       "      <td>Middle Oraija</td>\n",
       "      <td>2</td>\n",
       "    </tr>\n",
       "    <tr>\n",
       "      <td>10100003140</td>\n",
       "      <td>Al Munisiyah</td>\n",
       "      <td>1</td>\n",
       "    </tr>\n",
       "  </tbody>\n",
       "</table>\n",
       "</div>"
      ],
      "text/plain": [
       "                            title\n",
       "id          district             \n",
       "10100003017 King Fahd           1\n",
       "10100003047 Al Rabwah           1\n",
       "10100003109 Al Ghadeer          1\n",
       "10100003128 Middle Oraija       2\n",
       "10100003140 Al Munisiyah        1"
      ]
     },
     "execution_count": 165,
     "metadata": {},
     "output_type": "execute_result"
    }
   ],
   "source": [
    "c"
   ]
  },
  {
   "cell_type": "markdown",
   "metadata": {},
   "source": [
    "## Create JSON  Files "
   ]
  },
  {
   "cell_type": "code",
   "execution_count": 166,
   "metadata": {},
   "outputs": [],
   "source": [
    "c.to_json(R'C:\\Users\\jwoha\\NationalAddressAPI\\KPIs\\EntertainmentKPIs.json', orient='records', lines=True)"
   ]
  },
  {
   "cell_type": "code",
   "execution_count": 167,
   "metadata": {},
   "outputs": [],
   "source": [
    "d.to_json(R'C:\\Users\\jwoha\\NationalAddressAPI\\POIs\\EntertainmentPOIs.json', orient='records', lines=True)"
   ]
  }
 ],
 "metadata": {
  "kernelspec": {
   "display_name": "Python 3",
   "language": "python",
   "name": "python3"
  },
  "language_info": {
   "codemirror_mode": {
    "name": "ipython",
    "version": 3
   },
   "file_extension": ".py",
   "mimetype": "text/x-python",
   "name": "python",
   "nbconvert_exporter": "python",
   "pygments_lexer": "ipython3",
   "version": "3.7.4"
  }
 },
 "nbformat": 4,
 "nbformat_minor": 2
}
